{
    "cells": [
        {
            "cell_type": "markdown",
            "metadata": {
                "collapsed": true
            },
            "source": "# Final Capstone Project"
        },
        {
            "cell_type": "markdown",
            "metadata": {},
            "source": "### Introduction & Business Problem\nToronto is one of the most multicultural cities in North America. There is a vast selection of cusisine available to you wherever you are in the city.  \nIf you're craving Italian food, where should you go? Where should you go if you want Chinese food? \n\nThe analysis will cluster restaturants based on the type of cuisine and their rating togther so you know where to go if you're looking for a specific type of food."
        },
        {
            "cell_type": "markdown",
            "metadata": {},
            "source": "### Data Requirements\nThis project will use the Foursquare API to pull data like:\n* Venue Name\n* Venue Location\n* Venue Category\n* Venue Rating\n\nIt will also leverage data from Wikipedia on Toronto's Boroughs (https://en.wikipedia.org/wiki/List_of_postal_codes_of_Canada:_M) and location data (longitude and latitude) from http://cocl.us/Geospatial_data"
        },
        {
            "cell_type": "markdown",
            "metadata": {},
            "source": "### Methodology\n1. Use Wikipedia and Geospatial data to pull location details of of the city\n2. Use Foursquare data to pull Venue data\n3. Use clustering to find the most common types of food available in the area"
        }
    ],
    "metadata": {
        "kernelspec": {
            "display_name": "Python 3.6",
            "language": "python",
            "name": "python3"
        },
        "language_info": {
            "codemirror_mode": {
                "name": "ipython",
                "version": 3
            },
            "file_extension": ".py",
            "mimetype": "text/x-python",
            "name": "python",
            "nbconvert_exporter": "python",
            "pygments_lexer": "ipython3",
            "version": "3.6.8"
        }
    },
    "nbformat": 4,
    "nbformat_minor": 1
}